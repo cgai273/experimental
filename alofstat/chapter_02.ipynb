{
 "cells": [
  {
   "cell_type": "markdown",
   "metadata": {},
   "source": [
    "Ex 1: \n",
    "\n",
    "$\n",
    "\\begin{split}\n",
    "F(x^+) - F(x^-) &= F(x) - F(x^-) \\\\\n",
    "&= P(X \\leq x) - \\lim_{y\\rightarrow x, y < x}P(X \\leq y) \\\\\n",
    "&= \\lim_{y\\rightarrow x, y < x} P(X \\leq x) - P(X \\leq y) \\\\\n",
    "&= \\lim_{y\\rightarrow x, y < x} P(y < X \\leq x) \\\\ \n",
    "&= P(X = x) \\\\\n",
    "\\end{split}$"
   ]
  },
  {
   "cell_type": "markdown",
   "metadata": {},
   "source": [
    "Ex 5:\n",
    "\n",
    "$\n",
    "\\begin{split}\n",
    "X \\perp Y &\\Leftrightarrow P(X = x, Y = y) = P(X = x)P(Y = y)\n",
    "&\\Leftrightarrow f_{X,Y}(x, y) = f_X(x) f_Y(y)\\\\\n",
    "\\end{split}\n",
    "$"
   ]
  },
  {
   "cell_type": "markdown",
   "metadata": {},
   "source": [
    "Ex 6:\n",
    "\n",
    "$Y = I_A(X)$ means $Y = 1$ if $x \\in A$ and 0 otherwise. $P(Y = 1) = P(I_A(X) = 1) = P(X \\in A) = \\int_A f_X(x) dx$\n",
    "\n",
    "$P(Y=0) = 1 - \\int_A f_X(x) dx $\n",
    "\n",
    "$F_Y(y) = 0$ for $y < 0$\n",
    "\n",
    "$F_Y(y) = 1 - \\int_A f_X(x) dx$ for $0 \\leq y < 1$\n",
    "\n",
    "$F_Y(y) = 1$ for $ 1 \\leq y$"
   ]
  },
  {
   "cell_type": "markdown",
   "metadata": {},
   "source": [
    "Ex 13:\n",
    "    \n",
    "$F_Y(y) = P( Y \\leq y) = P(e^X \\leq y) = P(X \\leq \\log{y}) = \\int^{\\log{y}}_{-\\infty} f_X(x) dx$\n",
    "    \n",
    "$f_Y(y) = \\frac{1}{dy} F_Y(y) = \\frac{1}{dy} \\int^{\\log{y}}_{-\\infty}f_X(x) dx = F'(\\log y)(\\log y)' = f_X(\\log y) \\frac{1}{y} = \\frac{1}{\\sqrt{2\\pi} y} \\exp\\left[ -\\frac{(\\log{y})^2}{2} \\right] $"
   ]
  },
  {
   "cell_type": "code",
   "execution_count": 74,
   "metadata": {},
   "outputs": [
    {
     "data": {
      "image/png": "[encoded data removed]",
      "text/plain": [
       "<matplotlib.figure.Figure at 0x145d9494f28>"
      ]
     },
     "metadata": {},
     "output_type": "display_data"
    }
   ],
   "source": [
    "import numpy as np\n",
    "import matplotlib.pyplot as plt\n",
    "\n",
    "# plot fy(y)\n",
    "x = np.linspace(0.000001, 10, 1000)\n",
    "f = (1 / np.sqrt(2 * np.pi)) * np.exp(- 0.5 * np.square(np.log(x))) / x\n",
    "\n",
    "# empirical plot\n",
    "x_sample = np.exp(np.random.normal(0, 1, 100000))\n",
    "\n",
    "axes = plt.gca()\n",
    "axes.set_xlim([0, 10])\n",
    "axes.set_ylim([0, 1])\n",
    "plt.plot(x, f)\n",
    "plt.hist(x_sample, bins=100, range=(0,10), density=True)\n",
    "plt.show()"
   ]
  },
  {
   "cell_type": "code",
   "execution_count": null,
   "metadata": {},
   "outputs": [],
   "source": []
  }
 ],
 "metadata": {
  "kernelspec": {
   "display_name": "Python 3",
   "language": "python",
   "name": "python3"
  },
  "language_info": {
   "codemirror_mode": {
    "name": "ipython",
    "version": 3
   },
   "file_extension": ".py",
   "mimetype": "text/x-python",
   "name": "python",
   "nbconvert_exporter": "python",
   "pygments_lexer": "ipython3",
   "version": "3.6.4"
  }
 },
 "nbformat": 4,
 "nbformat_minor": 2
}
