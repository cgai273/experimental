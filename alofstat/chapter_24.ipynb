{
 "cells": [
  {
   "cell_type": "code",
   "execution_count": 2,
   "metadata": {},
   "outputs": [],
   "source": [
    "# Deps\n",
    "import numpy as np\n",
    "import matplotlib.pyplot as plt\n",
    "from scipy.stats import norm"
   ]
  },
  {
   "cell_type": "markdown",
   "metadata": {},
   "source": [
    "Exercise 1\n",
    "\n",
    "(a) $I = \\int^2_1 \\frac{exp(-x^2 /2)}{\\sqrt{2 \\pi}} dx =  E_{U(1, 2)} \\left[ \\frac{exp(-x^2 /2)}{\\sqrt{2 \\pi}} \\right] \\approx 0.135940$\n",
    "\n",
    "$\\hat{se} = \\frac{s}{\\sqrt{N}} = \\sqrt{ \\frac{\\sum^N_{i = 1} (w(X_i) - \\hat{I})}{N(N-1)} }$"
   ]
  },
  {
   "cell_type": "code",
   "execution_count": 7,
   "metadata": {},
   "outputs": [
    {
     "name": "stdout",
     "output_type": "stream",
     "text": [
      "Approximated I is 0.135628\n",
      "Estimated standard error is 0.000174\n"
     ]
    }
   ],
   "source": [
    "N = 100000\n",
    "# h(x) = w(x) f(x), where f(x) = 1/ (2 - 1) = 1 uniform on [1, 2]\n",
    "def gauss(x, mu, v):\n",
    "    return np.exp(- np.square(x - mu) / (2* v* v)) / ( v * np.sqrt(2 * np.pi))\n",
    "\n",
    "def w(x, mu=0, v=1):\n",
    "    y = gauss(x, mu, v)\n",
    "    return y\n",
    "\n",
    "def se(y, t, N):\n",
    "    return np.sqrt(np.sum(np.square(y - t)) / (N * (N - 1)))\n",
    "\n",
    "x = np.random.uniform(1, 2, N)\n",
    "y = w(x)\n",
    "est_int = np.sum(y) / N\n",
    "est_err = se(y, est_int, N)\n",
    "print(\"Approximated I is %f\" % est_int)\n",
    "print(\"Estimated standard error is %f\" % est_err)"
   ]
  },
  {
   "cell_type": "markdown",
   "metadata": {},
   "source": [
    "(b) \n",
    "$ I = \\int^2_1 \\frac{exp(-x^2 /2)}{\\sqrt{2 \\pi}} dx = \\int^2_{0} \\frac{exp(-x^2 /2)}{\\sqrt{2 \\pi}} dx - \\int^1_{0} \\frac{exp(-x^2 /2)}{\\sqrt{2 \\pi}} dx = \\frac{1}{2} \\left[ erf(2/\\sqrt{2}) - erf(1/\\sqrt{2}) \\right] = 0.135905...$"
   ]
  },
  {
   "cell_type": "markdown",
   "metadata": {},
   "source": [
    "(c) $I = \\int^2_1 \\frac{exp(-x^2 /2)}{\\sqrt{2 \\pi}} dx = \\int^2_1 N(x \\mid 0, 1) dx = \\int^2_1 \\frac{N(x \\mid 0,1)}{N(x \\mid 1.5, v^2)} N(x \\mid 1.5, v^2) dx = E_{N(x \\mid 1.5, v^2)} \\left[ \\frac{\\exp(-0.5 x^2) / \\sqrt{2\\pi}}{ \\exp(-(x - 1.5)^2 / (2 v^2)) / \\sqrt{2\\pi v^2}}\\right] = E[w]$ Note that we have to extend $w$ to all of real number, $w = 0$ if $x \\notin [1,2]$"
   ]
  },
  {
   "cell_type": "code",
   "execution_count": 9,
   "metadata": {},
   "outputs": [
    {
     "name": "stdout",
     "output_type": "stream",
     "text": [
      "For v = 0.100000, est_int is 0.137725,  est_err is 0.026201\n"
     ]
    },
    {
     "data": {
      "image/png": "[encoded data removed]",
      "text/plain": [
       "<matplotlib.figure.Figure at 0x235a48ff6a0>"
      ]
     },
     "metadata": {},
     "output_type": "display_data"
    },
    {
     "name": "stdout",
     "output_type": "stream",
     "text": [
      "For v = 1.000000, est_int is 0.135750,  est_err is 0.000518\n"
     ]
    },
    {
     "data": {
      "image/png": "[encoded data removed]",
      "text/plain": [
       "<matplotlib.figure.Figure at 0x235a6434400>"
      ]
     },
     "metadata": {},
     "output_type": "display_data"
    },
    {
     "name": "stdout",
     "output_type": "stream",
     "text": [
      "For v = 10.000000, est_int is 0.136343,  est_err is 0.002243\n"
     ]
    },
    {
     "data": {
      "image/png": "[encoded data removed]",
      "text/plain": [
       "<matplotlib.figure.Figure at 0x235a6083e48>"
      ]
     },
     "metadata": {},
     "output_type": "display_data"
    }
   ],
   "source": [
    "def g(v, N):\n",
    "    x = np.random.normal(1.5, v, size = N)\n",
    "    return x[(1 <= x) & (x <= 2)]\n",
    "\n",
    "def w_is(x, v):\n",
    "    y = gauss(x, 0, 1) / gauss(x, 1.5, v)\n",
    "    # we need to extend the function by setting it to 0 outside of [1,2]\n",
    "    y[(x < 1) | (x > 2)] = 0\n",
    "    return y\n",
    "\n",
    "for v in [0.1, 1.0, 10.0]:\n",
    "    x = g(v, N)\n",
    "    y = w_is(x, v)\n",
    "    est_int = np.sum(y) / N\n",
    "    est_err = se(y, est_int, N)\n",
    "    print(\"For v = %f, est_int is %f,  est_err is %f\" % (v, est_int, est_err))\n",
    "    plt.hist(y, bins=1000)\n",
    "    plt.show()\n",
    "\n",
    "# Normal with thinner tails has larger variance and some outliers with large values."
   ]
  },
  {
   "cell_type": "markdown",
   "metadata": {},
   "source": [
    "(d) The optimal $g^*$ is $f$ itself. Which is $N(0,1)$. "
   ]
  },
  {
   "cell_type": "code",
   "execution_count": null,
   "metadata": {},
   "outputs": [],
   "source": []
  }
 ],
 "metadata": {
  "kernelspec": {
   "display_name": "Python 3",
   "language": "python",
   "name": "python3"
  },
  "language_info": {
   "codemirror_mode": {
    "name": "ipython",
    "version": 3
   },
   "file_extension": ".py",
   "mimetype": "text/x-python",
   "name": "python",
   "nbconvert_exporter": "python",
   "pygments_lexer": "ipython3",
   "version": "3.6.4"
  }
 },
 "nbformat": 4,
 "nbformat_minor": 2
}
