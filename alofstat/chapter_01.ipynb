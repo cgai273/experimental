{
 "cells": [
  {
   "cell_type": "markdown",
   "metadata": {},
   "source": [
    "Ex.1 \n",
    "\n",
    "Suppose $i < j$, let $x \\in B_j$, then by definition, $x \\notin A_{j-1} \\ldots A_i$.So $B_i$ and $B_j$ are disjoint.\n",
    "\n",
    "Let $x \\in A_n$,  then $x \\in A_i$ for some $i$, by definition, $x \\in B_i$ Therefore $x \\in \\bigcup^n B_k$. \n",
    "\n",
    "Let $x \\in \\bigcup^n B_k$, $x \\in B_j$ for some $j$. By definition, $x \\in A_j$ Therefore $x \\in A_n$ since $j \\leq n$\n",
    "\n",
    "Hence $A_n = \\bigcup^n B_k $"
   ]
  },
  {
   "cell_type": "code",
   "execution_count": null,
   "metadata": {},
   "outputs": [],
   "source": []
  }
 ],
 "metadata": {
  "kernelspec": {
   "display_name": "Python 3",
   "language": "python",
   "name": "python3"
  },
  "language_info": {
   "codemirror_mode": {
    "name": "ipython",
    "version": 3
   },
   "file_extension": ".py",
   "mimetype": "text/x-python",
   "name": "python",
   "nbconvert_exporter": "python",
   "pygments_lexer": "ipython3",
   "version": "3.6.4"
  }
 },
 "nbformat": 4,
 "nbformat_minor": 2
}
