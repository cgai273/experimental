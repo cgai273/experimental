{
 "cells": [
  {
   "cell_type": "markdown",
   "metadata": {},
   "source": [
    "Exercise 1:\n",
    "\n",
    "(a) \n",
    "\n",
    "\n",
    "$ \\begin{split}\n",
    "    E(S^2_n) &= E \\left[ \\frac{1}{n-1} \\sum_i (X_i - \\bar{X}_n ) ^ 2\\right] \\\\\n",
    "             &= E \\left[ \\frac{1}{n-1} \\sum_i (X_i - \\frac{1}{n} \\sum_j X_j ) ^ 2\\right] \\\\ \n",
    "             &= E \\left[ \\frac{1}{n-1} \\sum_i \\left( \\sum_j (\\delta^i_j - \\frac{1}{n}) X_j \\right) ^ 2\\right] \\\\\n",
    "             &= E \\left[ \\frac{1}{n-1} \\sum_i \\left( \\sum_j (\\delta^i_j - \\frac{1}{n}) X_j \\right) \\left( \\sum_k (\\delta^i_k - \\frac{1}{n} ) X_k \\right)\\right] \\\\\n",
    "             &= E \\left[  \\sum_i \\sum_j \\sum_k (\\delta^i_j - \\frac{1}{n})(\\delta^i_k - \\frac{1}{n} ) X_j X_k  \\right] \\\\\n",
    "             &= \\frac{1}{n-1} E \\left[ \\sum_{i, j, k} ( \\delta^i_j \\delta^i_k X_j X_k - \\delta^i_j \\frac{1}{n} X_j X_k - \\delta^i_k \\frac{1}{n} X_j X_k + \\frac{1}{n^2} X_j X_k) \\right] \\\\\n",
    "             &=  \\frac{1}{n-1} E \\left[ \\sum_{i = j =k} X^2_i - \\frac{1}{n} \\sum_{i = j, k} X_i X_k -  \\frac{1}{n} \\sum_{i = k, j} X_i X_j + \\frac{1}{n^2} \\sum_{i, j, k} X_j X_k \\right] \\\\\n",
    "             &=  \\frac{1}{n-1}E \\left[ \\sum_{i = j =k} X^2_i - \\frac{2}{n} \\sum_{j, k} X_j X_k +  n \\frac{1}{n^2} \\sum_{j, k} X_j X_k \\right] \\\\\n",
    "             &=  \\frac{1}{n-1}E \\left[ \\sum_{i} X^2_i - \\frac{1}{n} \\sum_{j, k} X_j X_k  \\right] \\hspace{3ex} (1.1) \\\\\n",
    "             &=  \\frac{1}{n-1} \\left[ \\sum_{i} E[X^2_i] - \\frac{1}{n} \\sum_{j, k} E[X_j X_k]  \\right] \\\\\n",
    "             &=  \\frac{1}{n-1} \\left[ \\sum_{i} E[X^2_i] - \\frac{1}{n} \\left[ \\sum_{j = k} E[X_j X_k] + \\sum_{j \\neq k} E[X_j] E[X_k] \\right] \\right] \\\\\n",
    "             &=  \\frac{1}{n-1} \\left[ n (\\mu^2 + \\sigma^2) - \\frac{1}{n} \\left[ n(\\mu^2 + \\sigma^2) + n(n-1) \\mu^2 \\right] \\right] \\\\ \n",
    "             &= \\sigma^2\n",
    "\\end{split}\n",
    "$"
   ]
  },
  {
   "cell_type": "markdown",
   "metadata": {},
   "source": [
    "(b) From (a) (1.1) , we have $S^2_n = \\frac{1}{n-1} \\sum_i X^2_i - \\frac{1}{n(n-1)} \\sum_{j,k}X_jX_k =\n",
    "\\frac{1}{n-1}  \\sum_i X^2_i - \\frac{1}{n(n-1)} n^2 \\bar{X_n}^2\n",
    "$\n",
    "\n",
    "Since $X^2_i$ are iid, by weak law of large number $\\frac{1}{n-1}  \\sum_i X^2_i  \\overset{p}{\\rightarrow} E[X^2_i] = \\mu^2 + \\sigma^2$\n",
    "\n",
    "$\\lim_n \\frac{1}{n(n-1)} n^2 \\bar{X_n}^2 = \\lim_n \\bar{X_n}^2 \\overset{qm}{\\rightarrow} \\mu^2 $\n",
    "\n",
    "Since qm implies p convergence, By Theorem 5.5 (a),  combining these two limits, gives $S^2_n \\overset{p}{\\rightarrow} \\sigma^2$ "
   ]
  },
  {
   "cell_type": "markdown",
   "metadata": {},
   "source": [
    "Exercise 2:\n",
    "\n",
    "$\\begin{split}\n",
    "E(X_n - b)^2 \\rightarrow 0 &\\Longleftrightarrow E(X^2_n) - 2bE(X_n) + b^2 \\rightarrow 0 \\\\\n",
    "  &\\Longleftrightarrow V(X_n) + (EX_n)^2 - 2bE(X_n) + b^2 \\rightarrow 0 \\\\\n",
    "  &\\Longleftrightarrow V(X_n) + (EX_n - b)^2 \\rightarrow 0 \\\\\n",
    "  &\\Longleftrightarrow V(X_n) \\rightarrow 0,   EX_n \\rightarrow b\n",
    "\\end{split}$"
   ]
  },
  {
   "cell_type": "markdown",
   "metadata": {},
   "source": [
    "Exercise 3:\n",
    "    \n",
    "$\\begin{split}\n",
    "E(\\bar{X_n} - \\mu)^2 &= E(\\bar{X^2_n}) - 2 \\mu E\\bar{X_n} + \\mu^2 \\\\\n",
    "     &= n^{-2} E(\\sum_{i} X^2_i + \\sum_{i\\neq j}X_i X_j) - 2 \\mu^2 + \\mu^2 \\\\\n",
    "     &= n^{-2} E(\\sum_{i} X^2_i) +n^{-2} E( \\sum_{i\\neq j}X_i X_j) - \\mu^2 \\\\\n",
    "     &= n^{-2} \\sum_{i} E(X^2_i) +n^{-2} n(n-1)\\mu^2 - \\mu^2 \\\\\n",
    "     &= n^{-2} \\sum_{i} (V(X_i) + (EX_i)^2 ) +n^{-2} n(n-1)\\mu^2 - \\mu^2 \\\\\n",
    "     &= n^{-2} n (V(X_i) + \\mu^2 ) +n^{-2} n(n-1)\\mu^2 - \\mu^2 \\\\\n",
    "     &= \\frac{V(X_i)}{n}  \\\\\n",
    "     &\\rightarrow 0  \\hspace{2ex} \\mbox{ as n } \\rightarrow \\infty \\mbox{ since variance is finite}\n",
    "\\end{split}$"
   ]
  },
  {
   "cell_type": "markdown",
   "metadata": {},
   "source": [
    "Exercise 4:\n",
    "\n",
    "We will show $X_n \\overset{p}{\\rightarrow} I_{x=0}$\n",
    "\n",
    "For $\\epsilon > 0$, There exists $N$ where $\\frac{1}{N} < \\epsilon$ such that for any $n \\geq N$,  $P(|X_n - 0| > \\epsilon) = P(|X_n| > \\epsilon) \\leq P(|X_n| > \\frac{1}{N}) =  P(|X_n| > \\frac{1}{n}) = P(X_n = n) = \\frac{1}{n^2} < \\frac{1}{N} < \\epsilon$ Therefore $X_n$ converges to 0 in probability.\n",
    "\n",
    "Now for qm convergences, consider \n",
    "\n",
    "$E(X_n - 0)^2 = EX^2_n = P(X_n = \\frac{1}{n}) \\frac{1}{n^2}   + P(X_n = n) n^2 = (1 - \\frac{1}{n^2})^2 \\frac{1}{n^2} + (\\frac{1}{n^2})^2  n^2 = \\frac{2}{n^2} - \\frac{2}{n^4} + \\frac{1}{n^6} \\rightarrow 0 $\n",
    "\n",
    "Therefore $X_n$ also qm converge to 0"
   ]
  },
  {
   "cell_type": "code",
   "execution_count": null,
   "metadata": {},
   "outputs": [],
   "source": []
  }
 ],
 "metadata": {
  "kernelspec": {
   "display_name": "Python 3",
   "language": "python",
   "name": "python3"
  },
  "language_info": {
   "codemirror_mode": {
    "name": "ipython",
    "version": 3
   },
   "file_extension": ".py",
   "mimetype": "text/x-python",
   "name": "python",
   "nbconvert_exporter": "python",
   "pygments_lexer": "ipython3",
   "version": "3.6.4"
  }
 },
 "nbformat": 4,
 "nbformat_minor": 2
}
