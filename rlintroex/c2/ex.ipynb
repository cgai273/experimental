{
 "cells": [
  {
   "cell_type": "markdown",
   "metadata": {
    "collapsed": true
   },
   "source": [
    "#### Ex 2.1\n",
    "If $\\epsilon = 0.5$, and there are only two actions, the probability of greedy action selected is 0.5."
   ]
  },
  {
   "cell_type": "markdown",
   "metadata": {},
   "source": [
    "Ex 2.2\n",
    "\n",
    "\n",
    "|t = | 0 | 1 | 2 | 3   | 4   | 5   |\n",
    "|----|---|---|---|-----|-----|-----|\n",
    "|Q(1)| 0 | 1 | 1 | 1   | 1   | 1   |\n",
    "|Q(2)| 0 | 0 | 1 | 1.5 | 2.5 | 2.5 |\n",
    "|Q(3)| 0 | 0 | 0 | 0   | 0   | 0   |\n",
    "|Q(4)| 0 | 0 | 0 | 0   | 0   | 0   |\n",
    "|Q(5)| 0 | 0 | 0 | 0   | 0   | 0   |\n",
    "\n",
    "\n",
    "Here is a table of Value for each action vs time step. At the 5th time step exploration occured. Since it does not pick the highest valued action instead it picks A = 3 with 0 value.\n",
    "\n"
   ]
  },
  {
   "cell_type": "markdown",
   "metadata": {},
   "source": [
    "Ex 2.3"
   ]
  },
  {
   "cell_type": "markdown",
   "metadata": {},
   "source": [
    "Ex 2.4\n",
    "\n",
    "Expanding $Q_{n+1} = Q_{n} + a_n (R_n - Q_n)$,  we get\n",
    "$$ Q_{n+1} = a_n R_n + \\sum^{n-1}_{i-1} a_i (a_{i+1} - 1) \\cdots (a_n - 1) R_i + Q_n \\prod^{n}_{i=1} (a_i - 1)$$"
   ]
  },
  {
   "cell_type": "code",
   "execution_count": null,
   "metadata": {},
   "outputs": [],
   "source": [
    "import numpy as np\n",
    "\n"
   ]
  }
 ],
 "metadata": {
  "kernelspec": {
   "display_name": "Python 3",
   "language": "python",
   "name": "python3"
  },
  "language_info": {
   "codemirror_mode": {
    "name": "ipython",
    "version": 3
   },
   "file_extension": ".py",
   "mimetype": "text/x-python",
   "name": "python",
   "nbconvert_exporter": "python",
   "pygments_lexer": "ipython3",
   "version": "3.6.4"
  }
 },
 "nbformat": 4,
 "nbformat_minor": 1
}
