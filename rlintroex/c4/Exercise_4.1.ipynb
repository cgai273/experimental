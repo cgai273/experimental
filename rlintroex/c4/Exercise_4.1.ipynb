{
 "cells": [
  {
   "cell_type": "markdown",
   "metadata": {},
   "source": [
    "$q_{\\pi}(11, down) = E_{\\pi} [G_t \\mid 11, down] = E_{\\pi} [ R_{terminal} \\mid 11, down ] = 1$"
   ]
  },
  {
   "cell_type": "markdown",
   "metadata": {},
   "source": [
    "$$ \n",
    "\\begin{split}\n",
    "q_{\\pi}(7, down) &= \\sum_{s', r} p(s', r \\mid 7, down) \\left[r + \\max_{a'}q_{\\pi}(s',a') \\right] \\\\\n",
    " &=  p(11 , -1 \\mid 7, down) \\left[ -1  + \\max_{a'}q_{\\pi}(11 ,a') \\right]  \\\\\n",
    " &= -1 + \\max_{a'} q_{\\pi}(11, a') , \\mbox{ since }(p(11 , -1 \\mid 7, down) = 1) \\\\\n",
    " &= 0,  \\mbox{ since a' = down}\n",
    "\\end{split}\n",
    "$$"
   ]
  },
  {
   "cell_type": "code",
   "execution_count": 39,
   "metadata": {},
   "outputs": [
    {
     "name": "stdout",
     "output_type": "stream",
     "text": [
      "      Up  Right  Down  Left\n",
      "0    0.0    0.0   0.0   0.0\n",
      "1  -13.0  -19.0 -17.0   1.0\n",
      "2  -19.0  -21.0 -19.0 -13.0\n",
      "3  -21.0  -21.0 -19.0 -19.0\n",
      "4    1.0  -17.0 -19.0 -13.0\n",
      "5  -13.0  -19.0 -19.0 -13.0\n",
      "6  -19.0  -19.0 -17.0 -17.0\n",
      "7  -21.0  -19.0 -13.0 -19.0\n",
      "8  -13.0  -19.0 -21.0 -19.0\n",
      "9  -17.0  -17.0 -19.0 -19.0\n",
      "10 -19.0  -13.0 -13.0 -19.0\n",
      "11 -19.0  -13.0   1.0 -17.0\n",
      "12 -19.0  -19.0 -21.0 -21.0\n",
      "13 -19.0  -13.0 -19.0 -21.0\n",
      "14 -17.0    1.0 -13.0 -19.0\n",
      "15   0.0    0.0   0.0   0.0\n",
      "      0     1     2     3\n",
      "0   0.0 -12.0 -18.0 -20.0\n",
      "1 -12.0 -16.0 -18.0 -18.0\n",
      "2 -18.0 -18.0 -16.0 -12.0\n",
      "3 -20.0 -18.0 -12.0   0.0\n"
     ]
    }
   ],
   "source": [
    "import numpy as np\n",
    "import pandas as pd\n",
    "\n",
    "tolerant = 0.0001\n",
    "\n",
    "def reward(s_prime):\n",
    "    if s_prime == 0 or s_prime == 15:\n",
    "        return 1\n",
    "    else:\n",
    "        return -1\n",
    "    \n",
    "def move(s, a):\n",
    "    if a == 0:  # up\n",
    "        return  s if s - 4 < 0 else s - 4\n",
    "    if a == 1:  # right\n",
    "        return s if (s + 1) % 4 == 0 else s + 1  #check if s is on the right edge\n",
    "    if a == 2:  # down\n",
    "        return s if s + 4 > 15 else s + 4\n",
    "    if a == 3:  # left\n",
    "        return s if s % 4 == 0 else s - 1 # check if s is on the left edge\n",
    "\n",
    "q = np.zeros((16, 4))\n",
    "\n",
    "while True:\n",
    "    bound = -1 \n",
    "    for s in range(1, 15):  # state 1 to 14,  don't need to loop the terminal states\n",
    "        for a in range(0, 4): # a = 0 up, a = 1 right, a = 2 down, a = 3 left\n",
    "            s_prime = move(s, a)\n",
    "            new_q_value = reward(s_prime)\n",
    "            if not (s_prime == 0 or s_prime == 15):  # if s_prime is terminal, we don't include their q values.\n",
    "                for a_prime in range(0, 4):\n",
    "                    new_q_value += .25 * q[s_prime][a_prime]\n",
    "\n",
    "            d = abs(new_q_value - q[s][a])\n",
    "            bound = max(d, bound)\n",
    "            q[s][a] = new_q_value\n",
    "    if bound <= tolerant:\n",
    "        break;\n",
    "\n",
    "q = np.matrix.round(q)\n",
    "print(pd.DataFrame(q, columns=[\"Up\", \"Right\", \"Down\", \"Left\"]))      \n",
    "\n",
    "v = np.zeros((16,))\n",
    "while True:\n",
    "    bound = -1\n",
    "    for s in range(1, 15):\n",
    "        new_v = 0\n",
    "        for a in range(0, 4):\n",
    "            s_prime = move(s, a)\n",
    "            new_v += 0.25 * (reward(s_prime) + v[s_prime])\n",
    "\n",
    "        d = abs(new_v - v[s])\n",
    "        bound = max(d, bound)\n",
    "        v[s] = new_v\n",
    "    if bound <= tolerant:\n",
    "        break;\n",
    "\n",
    "v = np.matrix.round(v)\n",
    "print(pd.DataFrame(v.reshape((4,4)), columns=[\"0\",\"1\",\"2\",\"3\"]))    "
   ]
  },
  {
   "cell_type": "code",
   "execution_count": 72,
   "metadata": {},
   "outputs": [
    {
     "name": "stdout",
     "output_type": "stream",
     "text": [
      "[[  0.    -5.62  -8.33 -10.33]\n",
      " [ -5.49  -6.51  -7.17  -8.13]\n",
      " [ -8.16  -7.1   -6.49  -5.55]\n",
      " [-10.11  -8.03  -5.48   0.  ]]\n"
     ]
    }
   ],
   "source": [
    "def gen(a, b):\n",
    "    return np.random.randint(low=a, high=b)\n",
    "\n",
    "def gen_init_state():\n",
    "    return gen(1, 15)\n",
    "\n",
    "def gen_action():\n",
    "    return gen(0, 4)\n",
    "\n",
    "def gen_ep():\n",
    "    s_ep = [gen_init_state()]\n",
    "    r_ep = []\n",
    "    while s_ep[-1] != 0 and s_ep[-1] != 15:\n",
    "        s = s_ep[-1]\n",
    "        a = gen_action()\n",
    "        s_prime = move(s, a)\n",
    "        r = reward(s_prime)\n",
    "        s_ep.append(s_prime)\n",
    "        r_ep.append(r)\n",
    "    \n",
    "        \n",
    "    return (s_ep, r_ep)\n",
    "\n",
    "v = np.zeros((16, ))\n",
    "epoch = 20000\n",
    "gamma = 1\n",
    "returns_by_s = {}\n",
    "returns_by_s_counter = {}\n",
    "for ep in range(epoch):\n",
    "    # generate ep\n",
    "    s_ep, r_ep = gen_ep()\n",
    "    g = 0\n",
    "    s_seen = {}\n",
    "    for i in range(len(r_ep) - 1, -1, -1):\n",
    "        g = gamma * g + r_ep[i]\n",
    "        if s_ep[i] not in s_seen:\n",
    "            s_seen[s_ep[i]] = True\n",
    "            \n",
    "            if s_ep[i] not in returns_by_s:\n",
    "                returns_by_s_counter[s_ep[i]] = 1\n",
    "                returns_by_s[s_ep[i]] = g\n",
    "            else:\n",
    "                returns_by_s_counter[s_ep[i]] += 1\n",
    "                returns_by_s[s_ep[i]] = returns_by_s[s_ep[i]] + (g - returns_by_s[s_ep[i]]) / returns_by_s_counter[s_ep[i]]\n",
    "            \n",
    "for s in returns_by_s:\n",
    "    v[s] = returns_by_s[s]\n",
    "\n",
    "v = np.matrix.round(v, 2)\n",
    "print(v.reshape((4,4)))"
   ]
  },
  {
   "cell_type": "code",
   "execution_count": null,
   "metadata": {},
   "outputs": [],
   "source": []
  }
 ],
 "metadata": {
  "kernelspec": {
   "display_name": "Python 3",
   "language": "python",
   "name": "python3"
  },
  "language_info": {
   "codemirror_mode": {
    "name": "ipython",
    "version": 3
   },
   "file_extension": ".py",
   "mimetype": "text/x-python",
   "name": "python",
   "nbconvert_exporter": "python",
   "pygments_lexer": "ipython3",
   "version": "3.6.4"
  }
 },
 "nbformat": 4,
 "nbformat_minor": 2
}
