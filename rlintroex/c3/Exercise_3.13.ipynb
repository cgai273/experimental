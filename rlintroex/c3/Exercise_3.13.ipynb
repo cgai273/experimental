{
 "cells": [
  {
   "cell_type": "markdown",
   "metadata": {},
   "source": [
    "If we add a constant $c$ to every reward,  $G'_t = G_t + \\frac{c}{1-\\gamma}$ since the task is continuous we sum to infinity. Then the optimal value function $v_*(s) = E[G'_t \\mid s] = E[G_t \\mid s] + \\frac{c}{1-\\gamma}$. This has no effect on the optimal policy since every state value is just added a constant."
   ]
  },
  {
   "cell_type": "code",
   "execution_count": null,
   "metadata": {},
   "outputs": [],
   "source": []
  }
 ],
 "metadata": {
  "kernelspec": {
   "display_name": "Python 3",
   "language": "python",
   "name": "python3"
  },
  "language_info": {
   "codemirror_mode": {
    "name": "ipython",
    "version": 3
   },
   "file_extension": ".py",
   "mimetype": "text/x-python",
   "name": "python",
   "nbconvert_exporter": "python",
   "pygments_lexer": "ipython3",
   "version": "3.6.4"
  }
 },
 "nbformat": 4,
 "nbformat_minor": 2
}
