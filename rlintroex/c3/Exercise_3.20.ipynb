{
 "cells": [
  {
   "cell_type": "markdown",
   "metadata": {},
   "source": [
    "$v_{\\pi_{left}}(l_2) = 0, v_{\\pi_{left}}(l_1) = 1 + \\gamma \\times 0 = 1 \\\\ \n",
    "v_{\\pi_{right}}(l_2) = 2, v_{\\pi_{right}}(l_1) = 0 + \\gamma \\times 2 = 2\\gamma$"
   ]
  },
  {
   "cell_type": "markdown",
   "metadata": {},
   "source": [
    "If $\\gamma = 0$, this is greedy since $\\pi_{left}$ has better reward, so $\\pi_{left}$ is optimal."
   ]
  },
  {
   "cell_type": "markdown",
   "metadata": {},
   "source": [
    "If $\\gamma = 0.9$, $v_{\\pi_{right}} > v_{\\pi_{left}},  \\forall s$, so $\\pi_{right}$ is optimal."
   ]
  },
  {
   "cell_type": "markdown",
   "metadata": {},
   "source": [
    "If $\\gamma = 0.5$, both $\\pi_{left}$ and $\\pi_{right}$ are optimal by definition. "
   ]
  },
  {
   "cell_type": "code",
   "execution_count": null,
   "metadata": {},
   "outputs": [],
   "source": []
  }
 ],
 "metadata": {
  "kernelspec": {
   "display_name": "Python 3",
   "language": "python",
   "name": "python3"
  },
  "language_info": {
   "codemirror_mode": {
    "name": "ipython",
    "version": 3
   },
   "file_extension": ".py",
   "mimetype": "text/x-python",
   "name": "python",
   "nbconvert_exporter": "python",
   "pygments_lexer": "ipython3",
   "version": "3.6.4"
  }
 },
 "nbformat": 4,
 "nbformat_minor": 2
}
