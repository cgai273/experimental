{
 "cells": [
  {
   "cell_type": "markdown",
   "metadata": {},
   "source": [
    "We have a prior distribution of actions to take given current state $s$ which is just the policy $\\pi(A_t = a \\mid S_t = s)$. \n",
    "\n",
    "By bayes formula,  $$ \n",
    "\\begin{split}\n",
    "E_{\\pi}\\left[ R_{t+1} = r \\mid S_t = s \\right]  \n",
    "  & = \\sum_r r p\\left( R_{t+1} = r \\mid S_t = s \\right) \\\\\n",
    "  & = \\sum_{r, s'} r p\\left(S_{t+1}=s', R_{t+1} = r \\mid S_t = s \\right) \\\\\n",
    "  & = \\sum_{r, s'} r p\\left(S_{t+1}=s', R_{t+1} = r \\mid S_t = s, A_t = a \\right) \\pi(A_t = a \\mid S_t = s) \\\\\n",
    "  & = \\sum_{r, s'} r p\\left(s', r \\mid s, a \\right) \\pi(a \\mid s)\n",
    "\\end{split}\n",
    "$$"
   ]
  },
  {
   "cell_type": "code",
   "execution_count": null,
   "metadata": {},
   "outputs": [],
   "source": []
  }
 ],
 "metadata": {
  "kernelspec": {
   "display_name": "Python 3",
   "language": "python",
   "name": "python3"
  },
  "language_info": {
   "codemirror_mode": {
    "name": "ipython",
    "version": 3
   },
   "file_extension": ".py",
   "mimetype": "text/x-python",
   "name": "python",
   "nbconvert_exporter": "python",
   "pygments_lexer": "ipython3",
   "version": "3.6.4"
  }
 },
 "nbformat": 4,
 "nbformat_minor": 2
}
