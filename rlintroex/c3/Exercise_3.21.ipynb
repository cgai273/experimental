{
 "cells": [
  {
   "cell_type": "markdown",
   "metadata": {},
   "source": [
    "Following the formula for optional q function $q_*(s, a) = \\sum_{s', r} p(s', r \\mid  s, a) \\left[ r + \\gamma \\max_{a'} q_*(s', a')  \\right]$, we have:"
   ]
  },
  {
   "cell_type": "markdown",
   "metadata": {},
   "source": [
    "$q_*(l, s) = \\beta [ r_{search} + \\gamma \\max ( q_*(l, s) + q_*(l, w) + q_*(l, r)) ] + (1 - \\beta) [ -3 + \\gamma \\max (q_*(h, s) + q_*(h, w)) ] \\\\\n",
    "q_*(l, w) =  r_{wait} + \\gamma \\max (q_*(l, s) + q_*(l, w) + q_*(l, r) )  \\\\ \n",
    "q_*(l, r) =  \\gamma \\max (q_*(l, s) + q_*(l, w) + q_*(l, r) )  \\\\\n",
    "q_*(h, s) = (1 - \\alpha) [ r_{search} +  \\gamma \\max ( q_*(l, s) + q_*(l, w) + q_*(l, r)) ] + \\alpha [r_{search} + \\gamma \\max (q_*(h, s) + q_*(h, w)) ] \\\\\n",
    "q_*(h, w) = r_{wait} + \\gamma \\max ( q_*(h, s) + q_*(h, w) ) \\\\\n",
    "$"
   ]
  },
  {
   "cell_type": "code",
   "execution_count": null,
   "metadata": {},
   "outputs": [],
   "source": []
  }
 ],
 "metadata": {
  "kernelspec": {
   "display_name": "Python 3",
   "language": "python",
   "name": "python3"
  },
  "language_info": {
   "codemirror_mode": {
    "name": "ipython",
    "version": 3
   },
   "file_extension": ".py",
   "mimetype": "text/x-python",
   "name": "python",
   "nbconvert_exporter": "python",
   "pygments_lexer": "ipython3",
   "version": "3.6.4"
  }
 },
 "nbformat": 4,
 "nbformat_minor": 2
}
