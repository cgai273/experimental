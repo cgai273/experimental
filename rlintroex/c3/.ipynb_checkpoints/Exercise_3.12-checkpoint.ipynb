{
 "cells": [
  {
   "cell_type": "markdown",
   "metadata": {},
   "source": [
    "We have $v_{\\pi}(s) = \\sum_{a} \\pi (a \\mid s) \\sum_{s', r} p \\left(s', r \\mid s, a \\right) \\left[ r + \\gamma v_{\\pi}(s') \\right] $ , we want to find $v_{\\pi}(middle)$ where $\\pi$ is uniform. \n",
    "$r$ is always 0 in this case and $p(s', r \\mid s, a)$ is always 1 since it is deterministic, $\\pi(a \\mid s)$ is always $\\frac{1}{4}$ since it is uniform."
   ]
  },
  {
   "cell_type": "markdown",
   "metadata": {},
   "source": [
    "$v_{\\pi}(middle) = \\frac{1}{4} \\sum_{s', r} \\left[ 0 + \\gamma v_{\\pi}(s') \\right] = \\frac{1}{4} \\gamma \\sum_{s', r}  v_{\\pi}(s') = \\frac{1}{4} \\times 0.9 \\times (2.3 + 0.4 -0.4 + 0.7) =  0.7 $ which is exactly the value at the center."
   ]
  },
  {
   "cell_type": "code",
   "execution_count": null,
   "metadata": {},
   "outputs": [],
   "source": []
  }
 ],
 "metadata": {
  "kernelspec": {
   "display_name": "Python 3",
   "language": "python",
   "name": "python3"
  },
  "language_info": {
   "codemirror_mode": {
    "name": "ipython",
    "version": 3
   },
   "file_extension": ".py",
   "mimetype": "text/x-python",
   "name": "python",
   "nbconvert_exporter": "python",
   "pygments_lexer": "ipython3",
   "version": "3.6.4"
  }
 },
 "nbformat": 4,
 "nbformat_minor": 2
}
