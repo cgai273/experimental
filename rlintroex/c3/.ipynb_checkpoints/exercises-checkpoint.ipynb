{
 "cells": [
  {
   "cell_type": "markdown",
   "metadata": {},
   "source": [
    "Ex 3.1:\n",
    "\n",
    "   1) Task of solving maze, reward each step with -1 and goal with +1. Action can be {north, east, west, south}, state is the coordinate in a maze."
   ]
  },
  {
   "cell_type": "markdown",
   "metadata": {},
   "source": [
    "Ex 3.2:\n",
    " MDP framework is not adequate to represent all goal-directed learning tasks. For tasks are not markov(depends on all previous states), such as solving a maze being only able to observe the surrounding. Since we can only see the surrounding, so there are $2^8$ states (whether the surround grid is a wall or not). But the value for these states depends on where they are observed in the maze which is unknown."
   ]
  },
  {
   "cell_type": "markdown",
   "metadata": {},
   "source": [
    "| $s$ | $a$    | $s'$ | $r$ | $p(s',r \\mid s,a)$ |\n",
    "| ------  | ------ | ------  | ------ | ------------------- |\n",
    "| hi  | search | hi   | $r_s$ |  $\\alpha$ |\n",
    "| hi  | search | lo   | $r_s$ | $1 - \\alpha$ |\n",
    "| hi  | wait   | hi   | $r_w$ | 1 |\n",
    "| lo  | search | hi   | -3    | ------------------- |\n",
    "| lo  | search | lo   | $r_s$ | ------------------- |\n",
    "| lo  | charge | hi   | 0     | ------------------- |\n",
    "| lo  | wait   | lo   | $r_w$ | ------------------- |\n",
    "\n",
    "\n",
    "Note $p(s' \\mid s, a) = \\sum_r p(s', r  \\mid s, a)$\n",
    "We have $p(hi \\mid hi, search) = p(hi, r_s \\mid hi, search) = \\alpha$\n",
    "$p(hi \\mid wait, hi) = p(hi, r_w \\mid wait, hi) = 1 $\n",
    "$p(lo \\mid search, hi) = p(lo, r_s \\mid search, hi) = 1 - \\alpha $\n",
    "$p(hi \\mid lo, search) = p(hi, -3 \\mid lo, search) = 1 - \\beta $\n",
    "$p(lo \\mid lo, search) = p(hi, r_s \\mid lo, search) = \\beta $\n",
    "$p("
   ]
  },
  {
   "cell_type": "code",
   "execution_count": 4,
   "metadata": {},
   "outputs": [
    {
     "ename": "SyntaxError",
     "evalue": "invalid syntax (<ipython-input-4-1b158f9762b4>, line 1)",
     "output_type": "error",
     "traceback": [
      "\u001b[1;36m  File \u001b[1;32m\"<ipython-input-4-1b158f9762b4>\"\u001b[1;36m, line \u001b[1;32m1\u001b[0m\n\u001b[1;33m    | Tables        | Are           | Cool  |\u001b[0m\n\u001b[1;37m    ^\u001b[0m\n\u001b[1;31mSyntaxError\u001b[0m\u001b[1;31m:\u001b[0m invalid syntax\n"
     ]
    }
   ],
   "source": []
  },
  {
   "cell_type": "code",
   "execution_count": null,
   "metadata": {},
   "outputs": [],
   "source": []
  }
 ],
 "metadata": {
  "kernelspec": {
   "display_name": "Python 3",
   "language": "python",
   "name": "python3"
  },
  "language_info": {
   "codemirror_mode": {
    "name": "ipython",
    "version": 3
   },
   "file_extension": ".py",
   "mimetype": "text/x-python",
   "name": "python",
   "nbconvert_exporter": "python",
   "pygments_lexer": "ipython3",
   "version": "3.6.4"
  }
 },
 "nbformat": 4,
 "nbformat_minor": 2
}
