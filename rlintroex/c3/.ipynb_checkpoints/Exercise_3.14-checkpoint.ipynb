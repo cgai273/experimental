{
 "cells": [
  {
   "cell_type": "markdown",
   "metadata": {},
   "source": [
    "For episodic task,  if we add a constant c to every reward. $v'(s) =  E \\left[G_t + c \\frac{1 - \\gamma^{T+1}}{1 - \\gamma} \\mid s \\right] = v(s) + c \\frac{1 - E \\left[\\gamma^{T+1} \\mid s \\right]}{1 - \\gamma} $ which is different from continuous task since $T$ depends on $s$. For example, in maze runner, the state closer to the end of an episode will be added a lesser value since $E[T]$ would be smaller than states that are further away. There is no guaranteed the greed policy on optimal value function will choose the same actions after adding $c$ to every reward."
   ]
  },
  {
   "cell_type": "code",
   "execution_count": null,
   "metadata": {},
   "outputs": [],
   "source": []
  }
 ],
 "metadata": {
  "kernelspec": {
   "display_name": "Python 3",
   "language": "python",
   "name": "python3"
  },
  "language_info": {
   "codemirror_mode": {
    "name": "ipython",
    "version": 3
   },
   "file_extension": ".py",
   "mimetype": "text/x-python",
   "name": "python",
   "nbconvert_exporter": "python",
   "pygments_lexer": "ipython3",
   "version": "3.6.4"
  }
 },
 "nbformat": 4,
 "nbformat_minor": 2
}
