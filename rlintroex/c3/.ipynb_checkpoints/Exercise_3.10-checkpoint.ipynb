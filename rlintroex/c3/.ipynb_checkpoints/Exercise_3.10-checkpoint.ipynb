{
 "cells": [
  {
   "cell_type": "markdown",
   "metadata": {},
   "source": [
    "If reward is a constant +1, then $G_t = 1 + \\gamma + \\gamma^2 + .... = 1 + \\gamma ( 1 + \\gamma + .....) = 1 + \\gamma  G_t$\n",
    "\n",
    "So we have $G_t = \\frac{ 1}{1 - \\gamma}$"
   ]
  },
  {
   "cell_type": "code",
   "execution_count": null,
   "metadata": {},
   "outputs": [],
   "source": []
  }
 ],
 "metadata": {
  "kernelspec": {
   "display_name": "Python 3",
   "language": "python",
   "name": "python3"
  },
  "language_info": {
   "codemirror_mode": {
    "name": "ipython",
    "version": 3
   },
   "file_extension": ".py",
   "mimetype": "text/x-python",
   "name": "python",
   "nbconvert_exporter": "python",
   "pygments_lexer": "ipython3",
   "version": "3.6.4"
  }
 },
 "nbformat": 4,
 "nbformat_minor": 2
}
