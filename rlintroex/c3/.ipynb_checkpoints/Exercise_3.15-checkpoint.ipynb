{
 "cells": [
  {
   "cell_type": "markdown",
   "metadata": {},
   "source": [
    "$$\n",
    " \\begin{split}\n",
    "     q(s,a) &= E \\left[G \\mid s,a \\right] = E \\left[R_0 + \\sum_{n=1} \\gamma^{n} R_n \\mid s, a \\right] \\\\\n",
    "            &= E[R_0 \\mid s, a] + \\gamma E \\left[\\sum_{n=1} \\gamma^{n - 1} R_n \\mid s, a \\right] \\\\\n",
    "            &= E[R_0 \\mid s, a] + \\gamma \\sum_{s', a'} E \\left[\\sum_{n=1} \\gamma^{n - 1} R_n \\mid s', a' \\right] p(s', a' \\mid s, a) \\\\\n",
    "            &= E[R_0 \\mid s, a] + \\gamma \\sum_{s', a'} q(s',a') p(s', a' \\mid s, a) \\\\\n",
    "            &= E[R_0 \\mid s, a] + \\gamma \\sum_{s', a'} q(s',a') p(a' \\mid s', s, a) p(s' \\mid s, a) \\\\\n",
    "            &= E[R_0 \\mid s, a] + \\gamma \\sum_{s', a'} q(s',a') \\pi(a' \\mid s') p(s' \\mid s, a) \\\\\n",
    "            &= \\sum_{s',r} r p(s', r \\mid s, a)  + \\gamma \\sum_{s', r} \\sum_{a'} q(s',a') \\pi(a' \\mid s') p(s', r \\mid s, a) \\\\\n",
    "            &= \\sum_{s',r} p(s', r \\mid s, a) \\left[ r +  \\gamma \\sum_{a'} q(s',a') \\pi(a' \\mid s') \\right] \\\\\n",
    " \\end{split}\n",
    "$$"
   ]
  },
  {
   "cell_type": "code",
   "execution_count": null,
   "metadata": {},
   "outputs": [],
   "source": []
  }
 ],
 "metadata": {
  "kernelspec": {
   "display_name": "Python 3",
   "language": "python",
   "name": "python3"
  },
  "language_info": {
   "codemirror_mode": {
    "name": "ipython",
    "version": 3
   },
   "file_extension": ".py",
   "mimetype": "text/x-python",
   "name": "python",
   "nbconvert_exporter": "python",
   "pygments_lexer": "ipython3",
   "version": "3.6.4"
  }
 },
 "nbformat": 4,
 "nbformat_minor": 2
}
