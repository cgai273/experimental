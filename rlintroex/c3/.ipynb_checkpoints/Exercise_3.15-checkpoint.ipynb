{
 "cells": [
  {
   "cell_type": "markdown",
   "metadata": {},
   "source": [
    "$$\n",
    " \\begin{split}\n",
    "     q(s,a) &= E \\left[G \\mid s,a \\right] = E \\left[r + \\gamma G' \\mid s,a \\right] \\\\\n",
    "            &= \\sum_r r p(r \\mid s, a) + \\gamma \\sum_{G'} G' p(G' | s, a) \\\\\n",
    "            &= \\sum_{s'} \\sum_r r p(s', r \\mid s, a) + \\gamma \\sum_{G'} G' \\sum_{s'} \\sum_{a'} p(G' \\mid s', a') p(s', a' \\mid s, a) \\\\\n",
    "            &= \\sum_{s'} \\sum_r r p(s', r \\mid s, a) + \\gamma \\sum_{s'} \\sum_{a'} \\sum_{G'}  G'  p(G' \\mid s', a') p(s', a' \\mid s, a) \\\\\n",
    "            &= \\sum_{s'} \\sum_r r p(s', r \\mid s, a) + \\gamma \\sum_{s'} \\sum_{a'} q(s',a') p(s', a' \\mid s, a) \\\\  \n",
    "            &= \\sum_{s'} \\sum_r r p(s', r \\mid s, a) + \\gamma \\sum_{s'} \\sum_{a'} q(s',a') p(a' \\mid s, a, s') p(s' \\mid s, a) \\\\\n",
    "            &= \\sum_{s'} \\sum_r r p(s', r \\mid s, a) + \\gamma \\sum_{s'} \\sum_{a'} q(s',a') \\pi(a' \\mid s') p(s' \\mid s, a)  \\mbox{, (Note that given a policy, a' inpdependent of s and a given s' )} \\\\\n",
    "            &= \\sum_{s'} \\sum_r r p(s', r \\mid s, a) + \\gamma \\sum_{s'} \\sum_r \\sum_{a'} q(s',a') \\pi(a' \\mid s') p(s', r \\mid s, a) \\\\\n",
    "            &= \\sum_{s'} \\sum_r p(s', r \\mid s, a) \\left[r + \\gamma \\sum_{a'} q(s',a') \\pi(a' \\mid s') \\right] \\\\\n",
    " \\end{split}\n",
    "$$"
   ]
  },
  {
   "cell_type": "code",
   "execution_count": null,
   "metadata": {},
   "outputs": [],
   "source": []
  }
 ],
 "metadata": {
  "kernelspec": {
   "display_name": "Python 3",
   "language": "python",
   "name": "python3"
  },
  "language_info": {
   "codemirror_mode": {
    "name": "ipython",
    "version": 3
   },
   "file_extension": ".py",
   "mimetype": "text/x-python",
   "name": "python",
   "nbconvert_exporter": "python",
   "pygments_lexer": "ipython3",
   "version": "3.6.4"
  }
 },
 "nbformat": 4,
 "nbformat_minor": 2
}
