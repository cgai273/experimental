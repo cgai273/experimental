{
 "cells": [
  {
   "cell_type": "markdown",
   "metadata": {},
   "source": [
    "$G_1 = R_2 +  7 \\gamma  (1 + \\gamma + \\gamma^2 + \\cdots) = 7 \\sum^{\\infty}_{i=0} \\gamma^i = 70$\n",
    "\n",
    "$G_0 = R_1 + \\gamma G_1 = 65$"
   ]
  },
  {
   "cell_type": "code",
   "execution_count": null,
   "metadata": {},
   "outputs": [],
   "source": []
  }
 ],
 "metadata": {
  "kernelspec": {
   "display_name": "Python 3",
   "language": "python",
   "name": "python3"
  },
  "language_info": {
   "codemirror_mode": {
    "name": "ipython",
    "version": 3
   },
   "file_extension": ".py",
   "mimetype": "text/x-python",
   "name": "python",
   "nbconvert_exporter": "python",
   "pygments_lexer": "ipython3",
   "version": "3.6.4"
  }
 },
 "nbformat": 4,
 "nbformat_minor": 2
}
