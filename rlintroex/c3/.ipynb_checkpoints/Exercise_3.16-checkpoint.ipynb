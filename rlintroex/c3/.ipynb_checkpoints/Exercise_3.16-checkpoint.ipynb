{
 "cells": [
  {
   "cell_type": "markdown",
   "metadata": {},
   "source": [
    " From the diagram, we can see that we just need to sum all possible action: $v(s) = \\sum_{a} q(s, a) \\pi (a \\mid s) = E_{a \\sim \\pi} \\left[ q(s, a) \\mid s \\right]$. It can be obtained directly from the Bellman equation for $q(s,a)$ in 3.15 as well."
   ]
  },
  {
   "cell_type": "code",
   "execution_count": null,
   "metadata": {},
   "outputs": [],
   "source": []
  }
 ],
 "metadata": {
  "kernelspec": {
   "display_name": "Python 3",
   "language": "python",
   "name": "python3"
  },
  "language_info": {
   "codemirror_mode": {
    "name": "ipython",
    "version": 3
   },
   "file_extension": ".py",
   "mimetype": "text/x-python",
   "name": "python",
   "nbconvert_exporter": "python",
   "pygments_lexer": "ipython3",
   "version": "3.6.4"
  }
 },
 "nbformat": 4,
 "nbformat_minor": 2
}
