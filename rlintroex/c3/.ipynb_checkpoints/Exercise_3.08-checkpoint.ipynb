{
 "cells": [
  {
   "cell_type": "markdown",
   "metadata": {},
   "source": [
    "$G_5 = 0$ since $T= 5$.\n",
    "\n",
    "$G_4 = R_5 + \\gamma G_5 = 2$.\n",
    "\n",
    "$G_3 = R_4 + \\gamma G_4 = 3 + 0.5 \\times 2 = 4$\n",
    "\n",
    "$G_2 = R_3 + \\gamma G_3 = 6 + 0.5 \\times 4 = 8 $\n",
    "\n",
    "$G_1 = R_2 + \\gamma G_2 = 2 + 0.5 \\times 8 = 6 $\n",
    "\n",
    "$G_0 = R_1 + \\gamma G_1 = -1 + 0.5 \\times 6 = 2 $"
   ]
  },
  {
   "cell_type": "code",
   "execution_count": null,
   "metadata": {},
   "outputs": [],
   "source": []
  }
 ],
 "metadata": {
  "kernelspec": {
   "display_name": "Python 3",
   "language": "python",
   "name": "python3"
  },
  "language_info": {
   "codemirror_mode": {
    "name": "ipython",
    "version": 3
   },
   "file_extension": ".py",
   "mimetype": "text/x-python",
   "name": "python",
   "nbconvert_exporter": "python",
   "pygments_lexer": "ipython3",
   "version": "3.6.4"
  }
 },
 "nbformat": 4,
 "nbformat_minor": 2
}
